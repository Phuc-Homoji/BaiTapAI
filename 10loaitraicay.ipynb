{
  "nbformat": 4,
  "nbformat_minor": 0,
  "metadata": {
    "colab": {
      "name": "10loaitraicay.ipynb",
      "provenance": [],
      "authorship_tag": "ABX9TyNoQnKvZZdH9aDWQ0zFA5O/",
      "include_colab_link": true
    },
    "kernelspec": {
      "name": "python3",
      "display_name": "Python 3"
    },
    "language_info": {
      "name": "python"
    }
  },
  "cells": [
    {
      "cell_type": "markdown",
      "metadata": {
        "id": "view-in-github",
        "colab_type": "text"
      },
      "source": [
        "<a href=\"https://colab.research.google.com/github/Phuc-Homoji/BaiTapAI/blob/main/10loaitraicay.ipynb\" target=\"_parent\"><img src=\"https://colab.research.google.com/assets/colab-badge.svg\" alt=\"Open In Colab\"/></a>"
      ]
    },
    {
      "cell_type": "code",
      "execution_count": 1,
      "metadata": {
        "colab": {
          "base_uri": "https://localhost:8080/"
        },
        "id": "sIBGZuSRW4eT",
        "outputId": "f2d87bcf-d448-4971-b501-63e6a5b02789"
      },
      "outputs": [
        {
          "output_type": "stream",
          "name": "stdout",
          "text": [
            "Mounted at /content/drive\n"
          ]
        }
      ],
      "source": [
        "# liên kết Google drive với colab\n",
        "from google.colab import drive\n",
        "drive.mount('/content/drive')"
      ]
    },
    {
      "cell_type": "code",
      "source": [
        "import numpy as np\n",
        "import matplotlib.pyplot as plt\n",
        "import tensorflow as tf\n",
        "import pandas as pd\n",
        "from keras.preprocessing.image import load_img, img_to_array,array_to_img,ImageDataGenerator, image\n",
        "from keras.layers import Dense,Activation,Dropout,Conv2D,MaxPooling2D,Flatten\n",
        "from tensorflow.keras.models import load_model\n",
        "from keras.models import  Sequential\n",
        "import os"
      ],
      "metadata": {
        "id": "McVnJiyyXb4l"
      },
      "execution_count": 2,
      "outputs": []
    },
    {
      "cell_type": "code",
      "source": [
        "train_data = '/content/drive/MyDrive/AI/CNN_10TraiCay/Train'\n",
        "val_data  =  '/content/drive/MyDrive/AI/CNN_10TraiCay/Validation'\n",
        "test_data =  '/content/drive/MyDrive/AI/CNN_10TraiCay/Test'"
      ],
      "metadata": {
        "id": "KXQdvRc6XpOl"
      },
      "execution_count": 3,
      "outputs": []
    },
    {
      "cell_type": "code",
      "source": [
        "from keras.engine.data_adapter import train_validation_split\n",
        "#preprocessing\n",
        "data_scale = ImageDataGenerator(\n",
        "              rescale=1. / 255,\n",
        "              shear_range=0.2,\n",
        "              zoom_range=0.2,\n",
        "              horizontal_flip=True)\n",
        "\n",
        "train_input = data_scale.flow_from_directory(train_data,\n",
        "                        target_size=(100, 100),\n",
        "                        batch_size=10,\n",
        "                        class_mode=\"categorical\")\n",
        "\n",
        "val_input = data_scale.flow_from_directory(val_data,\n",
        "                        target_size=(100, 100),\n",
        "                        batch_size=10,\n",
        "                        class_mode=\"categorical\")\n",
        "\n",
        "test_input = data_scale.flow_from_directory(test_data,\n",
        "                        target_size=(100, 100),\n",
        "                        batch_size=10,\n",
        "                        class_mode=\"categorical\")"
      ],
      "metadata": {
        "colab": {
          "base_uri": "https://localhost:8080/"
        },
        "id": "iFw6QAn7Xu4M",
        "outputId": "6a9e9314-0c9b-4598-e283-f50d96f8352f"
      },
      "execution_count": 4,
      "outputs": [
        {
          "output_type": "stream",
          "name": "stdout",
          "text": [
            "Found 211 images belonging to 10 classes.\n",
            "Found 0 images belonging to 10 classes.\n",
            "Found 29 images belonging to 10 classes.\n"
          ]
        }
      ]
    },
    {
      "cell_type": "code",
      "source": [
        "#setting lable\n",
        "class_fruit = ['Cam', 'Cà Rốt', 'Cà Tím', 'Chuối', 'Dưa Hấu', 'Dừa', 'Mẳng Cầu', 'Mận', 'Nhãn','Thanh Long']\n",
        "\n",
        "print(\"labels: \", class_fruit)\n",
        "print(\"match class: \", train_input.class_indices)\n",
        "print(\"Tổng cộng: \",train_input.num_classes)"
      ],
      "metadata": {
        "colab": {
          "base_uri": "https://localhost:8080/"
        },
        "id": "CbfVpkhdX3tq",
        "outputId": "6b5b726f-c583-4890-adc3-ba2ebaadbf6c"
      },
      "execution_count": 5,
      "outputs": [
        {
          "output_type": "stream",
          "name": "stdout",
          "text": [
            "labels:  ['Cam', 'Cà Rốt', 'Cà Tím', 'Chuối', 'Dưa Hấu', 'Dừa', 'Mẳng Cầu', 'Mận', 'Nhãn', 'Thanh Long']\n",
            "match class:  {'Cam': 0, 'Cà Rốt': 1, 'Cà Tím': 2, 'Chuối': 3, 'Dưa Hấu': 4, 'Dừa': 5, 'Mẳng Cầu': 6, 'Mận': 7, 'Nhãn': 8, 'Thanh Long': 9}\n",
            "Tổng cộng:  10\n"
          ]
        }
      ]
    },
    {
      "cell_type": "code",
      "source": [
        "#MODEL CNN\n",
        "model=Sequential()\n",
        "\n",
        "#LAYER 1\n",
        "model.add(Conv2D(32,(3,3),activation='relu',kernel_initializer='he_uniform',padding='same', input_shape=(100,100,3)))\n",
        "model.add(MaxPooling2D((2,2)))\n",
        "model.add(Dropout(0.25))\n",
        "#LAYER 2\n",
        "model.add(Conv2D(64,(3,3),activation='relu',kernel_initializer='he_uniform',padding='same'))\n",
        "model.add(MaxPooling2D((2,2)))\n",
        "model.add(Dropout(0.25))\n",
        "#LAYER 3\n",
        "model.add(Conv2D(128,(3,3),activation='relu',kernel_initializer='he_uniform',padding='same'))\n",
        "model.add(MaxPooling2D((2,2)))\n",
        "model.add(Dropout(0.25))\n",
        "\n",
        "\n",
        "#FULLY CONNECTED LAYER\n",
        "#Flatten Layer is used to change the dimension of output from convolution layer, which has 3D, to 2D output\n",
        "model.add(Flatten())\n",
        "\n",
        "#Dense(512) is a fully-connected layer with 128 hidden units\n",
        "model.add(Dense(512,activation='relu'))\n",
        "model.add(Dropout(0.25))\n",
        "model.add(Dense(512,activation='relu'))\n",
        "model.add(Dropout(0.25))\n",
        "\n",
        "model.add(Dense(10,activation='softmax'))  #10 class_name\n",
        "model.summary()"
      ],
      "metadata": {
        "colab": {
          "base_uri": "https://localhost:8080/"
        },
        "id": "XW872dooYQoB",
        "outputId": "f2abeac7-bf4a-4c61-8c06-adc817a3df25"
      },
      "execution_count": 19,
      "outputs": [
        {
          "output_type": "stream",
          "name": "stdout",
          "text": [
            "Model: \"sequential_1\"\n",
            "_________________________________________________________________\n",
            " Layer (type)                Output Shape              Param #   \n",
            "=================================================================\n",
            " conv2d_5 (Conv2D)           (None, 100, 100, 32)      896       \n",
            "                                                                 \n",
            " max_pooling2d_5 (MaxPooling  (None, 50, 50, 32)       0         \n",
            " 2D)                                                             \n",
            "                                                                 \n",
            " dropout_7 (Dropout)         (None, 50, 50, 32)        0         \n",
            "                                                                 \n",
            " conv2d_6 (Conv2D)           (None, 50, 50, 64)        18496     \n",
            "                                                                 \n",
            " max_pooling2d_6 (MaxPooling  (None, 25, 25, 64)       0         \n",
            " 2D)                                                             \n",
            "                                                                 \n",
            " dropout_8 (Dropout)         (None, 25, 25, 64)        0         \n",
            "                                                                 \n",
            " conv2d_7 (Conv2D)           (None, 25, 25, 128)       73856     \n",
            "                                                                 \n",
            " max_pooling2d_7 (MaxPooling  (None, 12, 12, 128)      0         \n",
            " 2D)                                                             \n",
            "                                                                 \n",
            " dropout_9 (Dropout)         (None, 12, 12, 128)       0         \n",
            "                                                                 \n",
            " flatten_1 (Flatten)         (None, 18432)             0         \n",
            "                                                                 \n",
            " dense_3 (Dense)             (None, 512)               9437696   \n",
            "                                                                 \n",
            " dropout_10 (Dropout)        (None, 512)               0         \n",
            "                                                                 \n",
            " dense_4 (Dense)             (None, 512)               262656    \n",
            "                                                                 \n",
            " dropout_11 (Dropout)        (None, 512)               0         \n",
            "                                                                 \n",
            " dense_5 (Dense)             (None, 10)                5130      \n",
            "                                                                 \n",
            "=================================================================\n",
            "Total params: 9,798,730\n",
            "Trainable params: 9,798,730\n",
            "Non-trainable params: 0\n",
            "_________________________________________________________________\n"
          ]
        }
      ]
    },
    {
      "cell_type": "code",
      "source": [
        "from tensorflow.keras.optimizers import Adam\n",
        "opt = Adam(learning_rate=0.001)\n",
        "model.compile(loss='categorical_crossentropy',optimizer='adam',metrics=['accuracy'])"
      ],
      "metadata": {
        "id": "WhCGfqs8Yd6V"
      },
      "execution_count": 20,
      "outputs": []
    },
    {
      "cell_type": "code",
      "source": [
        "money_train = model.fit(train_input,batch_size=10,epochs=50,verbose=1,validation_data=val_input)"
      ],
      "metadata": {
        "colab": {
          "base_uri": "https://localhost:8080/"
        },
        "id": "uRlMI-3TYg1p",
        "outputId": "af4d8401-ac22-440e-8d15-6a4a40c3338d"
      },
      "execution_count": 21,
      "outputs": [
        {
          "output_type": "stream",
          "name": "stdout",
          "text": [
            "Epoch 1/50\n",
            "22/22 [==============================] - 7s 292ms/step - loss: 10.4757 - accuracy: 0.1659\n",
            "Epoch 2/50\n",
            "22/22 [==============================] - 7s 309ms/step - loss: 1.8954 - accuracy: 0.2464\n",
            "Epoch 3/50\n",
            "22/22 [==============================] - 6s 287ms/step - loss: 1.7195 - accuracy: 0.2844\n",
            "Epoch 4/50\n",
            "22/22 [==============================] - 6s 285ms/step - loss: 1.5779 - accuracy: 0.3555\n",
            "Epoch 5/50\n",
            "22/22 [==============================] - 6s 289ms/step - loss: 1.2163 - accuracy: 0.4929\n",
            "Epoch 6/50\n",
            "22/22 [==============================] - 7s 292ms/step - loss: 1.1130 - accuracy: 0.5450\n",
            "Epoch 7/50\n",
            "22/22 [==============================] - 6s 287ms/step - loss: 1.0560 - accuracy: 0.5924\n",
            "Epoch 8/50\n",
            "22/22 [==============================] - 7s 316ms/step - loss: 0.8797 - accuracy: 0.6256\n",
            "Epoch 9/50\n",
            "22/22 [==============================] - 6s 286ms/step - loss: 0.9391 - accuracy: 0.6066\n",
            "Epoch 10/50\n",
            "22/22 [==============================] - 6s 287ms/step - loss: 0.6771 - accuracy: 0.7583\n",
            "Epoch 11/50\n",
            "22/22 [==============================] - 6s 290ms/step - loss: 0.9259 - accuracy: 0.6777\n",
            "Epoch 12/50\n",
            "22/22 [==============================] - 6s 288ms/step - loss: 0.7389 - accuracy: 0.7393\n",
            "Epoch 13/50\n",
            "22/22 [==============================] - 6s 288ms/step - loss: 0.6100 - accuracy: 0.7441\n",
            "Epoch 14/50\n",
            "22/22 [==============================] - 6s 287ms/step - loss: 0.4532 - accuracy: 0.8578\n",
            "Epoch 15/50\n",
            "22/22 [==============================] - 6s 287ms/step - loss: 0.5382 - accuracy: 0.8341\n",
            "Epoch 16/50\n",
            "22/22 [==============================] - 6s 286ms/step - loss: 0.4334 - accuracy: 0.8720\n",
            "Epoch 17/50\n",
            "22/22 [==============================] - 6s 285ms/step - loss: 0.5333 - accuracy: 0.8057\n",
            "Epoch 18/50\n",
            "22/22 [==============================] - 6s 288ms/step - loss: 0.5442 - accuracy: 0.7962\n",
            "Epoch 19/50\n",
            "22/22 [==============================] - 6s 291ms/step - loss: 0.6533 - accuracy: 0.8057\n",
            "Epoch 20/50\n",
            "22/22 [==============================] - 6s 287ms/step - loss: 0.5030 - accuracy: 0.8199\n",
            "Epoch 21/50\n",
            "22/22 [==============================] - 6s 289ms/step - loss: 0.4040 - accuracy: 0.8483\n",
            "Epoch 22/50\n",
            "22/22 [==============================] - 6s 286ms/step - loss: 0.6734 - accuracy: 0.7678\n",
            "Epoch 23/50\n",
            "22/22 [==============================] - 6s 286ms/step - loss: 0.3747 - accuracy: 0.8768\n",
            "Epoch 24/50\n",
            "22/22 [==============================] - 7s 292ms/step - loss: 0.3947 - accuracy: 0.8341\n",
            "Epoch 25/50\n",
            "22/22 [==============================] - 6s 286ms/step - loss: 0.5555 - accuracy: 0.8483\n",
            "Epoch 26/50\n",
            "22/22 [==============================] - 7s 292ms/step - loss: 0.3642 - accuracy: 0.8578\n",
            "Epoch 27/50\n",
            "22/22 [==============================] - 6s 284ms/step - loss: 0.2436 - accuracy: 0.9289\n",
            "Epoch 28/50\n",
            "22/22 [==============================] - 6s 291ms/step - loss: 0.1816 - accuracy: 0.9194\n",
            "Epoch 29/50\n",
            "22/22 [==============================] - 6s 282ms/step - loss: 0.4219 - accuracy: 0.8673\n",
            "Epoch 30/50\n",
            "22/22 [==============================] - 6s 289ms/step - loss: 0.2807 - accuracy: 0.9052\n",
            "Epoch 31/50\n",
            "22/22 [==============================] - 6s 286ms/step - loss: 0.3797 - accuracy: 0.8578\n",
            "Epoch 32/50\n",
            "22/22 [==============================] - 6s 287ms/step - loss: 0.2715 - accuracy: 0.9052\n",
            "Epoch 33/50\n",
            "22/22 [==============================] - 6s 288ms/step - loss: 0.8638 - accuracy: 0.7773\n",
            "Epoch 34/50\n",
            "22/22 [==============================] - 6s 284ms/step - loss: 0.6490 - accuracy: 0.7820\n",
            "Epoch 35/50\n",
            "22/22 [==============================] - 6s 285ms/step - loss: 0.2800 - accuracy: 0.9005\n",
            "Epoch 36/50\n",
            "22/22 [==============================] - 6s 289ms/step - loss: 0.2762 - accuracy: 0.9147\n",
            "Epoch 37/50\n",
            "22/22 [==============================] - 6s 285ms/step - loss: 0.3371 - accuracy: 0.8815\n",
            "Epoch 38/50\n",
            "22/22 [==============================] - 6s 290ms/step - loss: 0.2389 - accuracy: 0.9242\n",
            "Epoch 39/50\n",
            "22/22 [==============================] - 6s 288ms/step - loss: 0.4118 - accuracy: 0.8910\n",
            "Epoch 40/50\n",
            "22/22 [==============================] - 6s 288ms/step - loss: 0.3320 - accuracy: 0.8815\n",
            "Epoch 41/50\n",
            "22/22 [==============================] - 6s 285ms/step - loss: 0.3237 - accuracy: 0.8720\n",
            "Epoch 42/50\n",
            "22/22 [==============================] - 6s 286ms/step - loss: 0.2755 - accuracy: 0.8768\n",
            "Epoch 43/50\n",
            "22/22 [==============================] - 6s 284ms/step - loss: 0.1929 - accuracy: 0.9289\n",
            "Epoch 44/50\n",
            "22/22 [==============================] - 6s 286ms/step - loss: 0.2266 - accuracy: 0.9431\n",
            "Epoch 45/50\n",
            "22/22 [==============================] - 6s 283ms/step - loss: 0.2931 - accuracy: 0.9147\n",
            "Epoch 46/50\n",
            "22/22 [==============================] - 6s 287ms/step - loss: 0.2023 - accuracy: 0.9526\n",
            "Epoch 47/50\n",
            "22/22 [==============================] - 6s 287ms/step - loss: 0.2473 - accuracy: 0.9052\n",
            "Epoch 48/50\n",
            "22/22 [==============================] - 6s 283ms/step - loss: 0.1897 - accuracy: 0.9242\n",
            "Epoch 49/50\n",
            "22/22 [==============================] - 6s 286ms/step - loss: 0.3081 - accuracy: 0.9052\n",
            "Epoch 50/50\n",
            "22/22 [==============================] - 7s 290ms/step - loss: 0.2993 - accuracy: 0.9289\n"
          ]
        }
      ]
    },
    {
      "cell_type": "code",
      "source": [
        "model.save('/content/drive/MyDrive/AI/CNN_10TraiCay/fruit.h5')"
      ],
      "metadata": {
        "id": "EzdevJSOYkAH"
      },
      "execution_count": 22,
      "outputs": []
    },
    {
      "cell_type": "code",
      "source": [
        "pic = image.load_img('/content/drive/MyDrive/AI/CNN_10TraiCay/Test/Chuối/images (5).jpg', target_size=(100,100)) \n",
        "plt.imshow(pic)\n",
        "pic = img_to_array(pic)\n",
        "pic = pic.reshape(1,100,100,3) \n",
        "pic = pic.astype('float32')\n",
        "pic = pic/255\n",
        "np.argmax(model.predict(pic), axis=1)\n",
        "\n",
        "# predict \n",
        "guess=np.argmax(model.predict(pic), axis=1)\n",
        "#đặt điều kiện\n",
        "if guess[0]==0:\n",
        "  print(\"Loại Trái Cây: Cam\")\n",
        "if guess[0]==1:\n",
        "  print(\"Loại Trái Cây: Cà Rốt\")\n",
        "if guess[0]==2:\n",
        "  print(\"Loại Trái Cây: Cà Tím\")\n",
        "if guess[0]==3:\n",
        "  print(\"Loại Trái Cây: Chuối\")\n",
        "if guess[0]==4:\n",
        "  print(\"Loại Trái Cây: Dưa Hấu\")\n",
        "if guess[0]==5:\n",
        "  print(\"Loại Trái Cây: Dừa\")\n",
        "if guess[0]==6:\n",
        "  print(\"Loại Trái Cây: Mẳng cầu\")\n",
        "if guess[0]==7:\n",
        "  print(\"Loại Trái Cây: Mận\")\n",
        "if guess[0]==8:\n",
        "  print(\"Loại Trái Cây: Nhãn\")\n",
        "if guess[0]==9:\n",
        "  print(\"Loại Trái Cây: Thanh Long\")"
      ],
      "metadata": {
        "colab": {
          "base_uri": "https://localhost:8080/",
          "height": 285
        },
        "id": "45pPobEAeE8M",
        "outputId": "7590d8e3-783a-4da3-e2aa-44b1972e1cb3"
      },
      "execution_count": 23,
      "outputs": [
        {
          "output_type": "stream",
          "name": "stdout",
          "text": [
            "Loại Trái Cây: Chuối\n"
          ]
        },
        {
          "output_type": "display_data",
          "data": {
            "text/plain": [
              "<Figure size 432x288 with 1 Axes>"
            ],
            "image/png": "[encoded data removed]"
          },
          "metadata": {
            "needs_background": "light"
          }
        }
      ]
    },
    {
      "cell_type": "code",
      "source": [
        ""
      ],
      "metadata": {
        "id": "U8Y46lBbe2QZ"
      },
      "execution_count": null,
      "outputs": []
    }
  ]
}